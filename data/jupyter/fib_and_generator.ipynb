{
 "cells": [
  {
   "cell_type": "code",
   "execution_count": 9,
   "metadata": {},
   "outputs": [
    {
     "name": "stdout",
     "output_type": "stream",
     "text": [
      "200 201\n"
     ]
    }
   ],
   "source": [
    "#原来的语句\n",
    "a=1\n",
    "b=200\n",
    "a,b=b,a+b\n",
    "print(a,b)"
   ]
  },
  {
   "cell_type": "code",
   "execution_count": 10,
   "metadata": {},
   "outputs": [
    {
     "name": "stdout",
     "output_type": "stream",
     "text": [
      "200 201\n"
     ]
    }
   ],
   "source": [
    "#探究具体步骤\n",
    "a=1\n",
    "b=200\n",
    "#a,b=b,a+b\n",
    "tmpA=a\n",
    "tmpB=b\n",
    "a=tmpB\n",
    "b=tmpA+tmpB #注意使用的是此前的a和b\n",
    "#\n",
    "print(a,b)"
   ]
  },
  {
   "cell_type": "code",
   "execution_count": 13,
   "metadata": {},
   "outputs": [
    {
     "name": "stdout",
     "output_type": "stream",
     "text": [
      "200 201\n"
     ]
    }
   ],
   "source": [
    "#使用原来的值，也可以用临时变量接管结果\n",
    "a=1\n",
    "b=200\n",
    "\n",
    "#a, b = b, a + b\n",
    "#相当于：\n",
    "t = (b, a + b) # t是一个tuple\n",
    "a = t[0]\n",
    "b = t[1]\n",
    "print(a,b)"
   ]
  },
  {
   "cell_type": "code",
   "execution_count": 11,
   "metadata": {},
   "outputs": [
    {
     "name": "stdout",
     "output_type": "stream",
     "text": [
      "200 400\n"
     ]
    }
   ],
   "source": [
    "#所以，这是错的！因为需要用到的原值被提前覆盖了\n",
    "a=1\n",
    "b=200\n",
    "#a,b=b,a+b\n",
    "a=b #a的值已经被覆盖，a的值消失\n",
    "b=a+b\n",
    "#\n",
    "print(a,b)"
   ]
  },
  {
   "cell_type": "markdown",
   "metadata": {},
   "source": [
    "# 所以正确的替换是："
   ]
  },
  {
   "cell_type": "code",
   "execution_count": 8,
   "metadata": {},
   "outputs": [
    {
     "name": "stdout",
     "output_type": "stream",
     "text": [
      "1\n",
      "1\n",
      "2\n",
      "3\n",
      "5\n",
      "8\n"
     ]
    },
    {
     "data": {
      "text/plain": [
       "'done'"
      ]
     },
     "execution_count": 8,
     "metadata": {},
     "output_type": "execute_result"
    }
   ],
   "source": [
    "#所以斐波那契数列\n",
    "def fib(max):\n",
    "    n=0\n",
    "    a=0\n",
    "    b=1\n",
    "    while n<max:\n",
    "        print(b)\n",
    "        a,b=b,a+b\n",
    "        n+=1\n",
    "    return 'done'\n",
    "fib(6)"
   ]
  },
  {
   "cell_type": "code",
   "execution_count": 12,
   "metadata": {},
   "outputs": [
    {
     "name": "stdout",
     "output_type": "stream",
     "text": [
      "1\n",
      "1\n",
      "2\n",
      "3\n",
      "5\n",
      "8\n"
     ]
    },
    {
     "data": {
      "text/plain": [
       "'done'"
      ]
     },
     "execution_count": 12,
     "metadata": {},
     "output_type": "execute_result"
    }
   ],
   "source": [
    "#所以斐波那契数列\n",
    "def fib(max):\n",
    "    n=0\n",
    "    a=0\n",
    "    b=1\n",
    "    while n<max:\n",
    "        print(b)\n",
    "        #a,b=b,a+b\n",
    "        #等价于\n",
    "        tmpA=a\n",
    "        a=b\n",
    "        b=tmpA+b #要是用循环开始处的a值\n",
    "        n+=1\n",
    "    return 'done'\n",
    "fib(6)"
   ]
  },
  {
   "cell_type": "markdown",
   "metadata": {},
   "source": [
    "# generator"
   ]
  },
  {
   "cell_type": "code",
   "execution_count": 14,
   "metadata": {},
   "outputs": [
    {
     "name": "stdout",
     "output_type": "stream",
     "text": [
      "1\n",
      "1\n",
      "2\n",
      "3\n",
      "5\n",
      "8\n"
     ]
    },
    {
     "data": {
      "text/plain": [
       "'done'"
      ]
     },
     "execution_count": 14,
     "metadata": {},
     "output_type": "execute_result"
    }
   ],
   "source": [
    "def fib(max):\n",
    "    n, a, b = 0, 0, 1\n",
    "    while n < max:\n",
    "        print(b)\n",
    "        a, b = b, a + b\n",
    "        n = n + 1\n",
    "    return 'done'\n",
    "fib(6)"
   ]
  },
  {
   "cell_type": "code",
   "execution_count": 15,
   "metadata": {},
   "outputs": [
    {
     "name": "stdout",
     "output_type": "stream",
     "text": [
      "<generator object fib2 at 0x03391F70>\n"
     ]
    }
   ],
   "source": [
    "#把print()改为yield就是生成器了\n",
    "def fib2(max):\n",
    "    n, a, b = 0, 0, 1\n",
    "    while n < max:\n",
    "        yield b\n",
    "        a, b = b, a + b\n",
    "        n = n + 1\n",
    "    return 'done'\n",
    "g=fib2(6)\n",
    "print(g)"
   ]
  },
  {
   "cell_type": "code",
   "execution_count": 16,
   "metadata": {},
   "outputs": [
    {
     "name": "stdout",
     "output_type": "stream",
     "text": [
      "1\n",
      "1\n",
      "2\n",
      "3\n",
      "5\n",
      "8\n"
     ]
    }
   ],
   "source": [
    "#g是一个生成器，使用循环遍历输出\n",
    "for item in g:\n",
    "    print(item)"
   ]
  },
  {
   "cell_type": "code",
   "execution_count": 20,
   "metadata": {},
   "outputs": [
    {
     "name": "stdout",
     "output_type": "stream",
     "text": [
      "[1]\n",
      "[1, 1]\n",
      "[1, 2, 1]\n",
      "[1, 3, 3, 1]\n",
      "[1, 4, 6, 4, 1]\n",
      "[1, 5, 10, 10, 5, 1]\n"
     ]
    }
   ],
   "source": [
    "#先尝试使用print来调试函数\n",
    "def triangles(max):\n",
    "    L=[1]\n",
    "    n=1\n",
    "    #L,n=[1],1\n",
    "    \n",
    "    while n<=max:\n",
    "        print(L)\n",
    "        L=[0]+L+[0]\n",
    "        L=[ L[i]+L[i+1] for i in range(n+1) ]\n",
    "        n+=1\n",
    "triangles(6)"
   ]
  },
  {
   "cell_type": "code",
   "execution_count": 40,
   "metadata": {},
   "outputs": [
    {
     "name": "stdout",
     "output_type": "stream",
     "text": [
      "[1]\n",
      "[1, 1]\n",
      "[1, 2, 1]\n"
     ]
    }
   ],
   "source": [
    "# 打开函数，逐步执行\n",
    "triangles(3)"
   ]
  },
  {
   "cell_type": "code",
   "execution_count": 39,
   "metadata": {},
   "outputs": [
    {
     "name": "stdout",
     "output_type": "stream",
     "text": [
      "[1]\n",
      "cmd2--> [0, 1, 0]\n",
      "cmd3--> [1, 1]\n",
      "cmd4--> 2\n"
     ]
    }
   ],
   "source": [
    "#triangles(3) #\n",
    "max=3\n",
    "L=[1]\n",
    "n=1\n",
    "#\n",
    "#####################################while循环，n=1符合<=3\n",
    "print(L) #[1]\n",
    "\n",
    "L=[0]+L+[0] #[0, 1, 0]\n",
    "print('cmd2-->',L)\n",
    "\n",
    "L=[ L[i]+L[i+1] for i in range(n+1) ] #[1, 1]\n",
    "print('cmd3-->',L)\n",
    "\n",
    "n+=1\n",
    "print('cmd4-->',n) #2 这时n已经是2了，但是分析前面的句子时，n还是1，n是每次循环的最后才累加的"
   ]
  },
  {
   "cell_type": "markdown",
   "metadata": {},
   "source": [
    "## 不破坏原来的结构，详解cmd3前的list生成器"
   ]
  },
  {
   "cell_type": "code",
   "execution_count": 53,
   "metadata": {},
   "outputs": [
    {
     "name": "stdout",
     "output_type": "stream",
     "text": [
      "n1= 1\n"
     ]
    },
    {
     "data": {
      "text/plain": [
       "[0, 1]"
      ]
     },
     "execution_count": 53,
     "metadata": {},
     "output_type": "execute_result"
    }
   ],
   "source": [
    "n1=1\n",
    "print('n1=',n1)\n",
    "[i for i in range(n1+1)]\n",
    "#就是让i= range(n+1) = range(2)的每一个整数，[0,2)其实只有0和1"
   ]
  },
  {
   "cell_type": "code",
   "execution_count": 43,
   "metadata": {},
   "outputs": [
    {
     "data": {
      "text/plain": [
       "[1, 1]"
      ]
     },
     "execution_count": 43,
     "metadata": {},
     "output_type": "execute_result"
    }
   ],
   "source": [
    "#对每个i，求L[i]+L[i+1]的值，结果作为list返回给L\n",
    "#在cmd2的时候，L=[0, 1, 0]\n",
    "#我们进行模拟\n",
    "X=[0, 1, 0]\n",
    "# i=0, X[i]+X[i+1]=X[0]+X[1]=0+1=1\n",
    "# i=2  X[i]+X[i+1]=X[1]+X[2]=1+0=1\n",
    "#\n",
    "[ X[i]+X[i+1] for i in range(n1+1)]"
   ]
  },
  {
   "cell_type": "code",
   "execution_count": 46,
   "metadata": {},
   "outputs": [
    {
     "name": "stdout",
     "output_type": "stream",
     "text": [
      "L= [1, 1]\n",
      "n= 2\n"
     ]
    }
   ],
   "source": [
    "#这时执行完cmd3之后的L确是是：\n",
    "print('L=',L)\n",
    "print('n=',n)"
   ]
  },
  {
   "cell_type": "code",
   "execution_count": 47,
   "metadata": {},
   "outputs": [
    {
     "name": "stdout",
     "output_type": "stream",
     "text": [
      "原函数就有的输出 L= [1, 1]\n"
     ]
    }
   ],
   "source": [
    "#####################################while循环，n=2符合<=3\n",
    "print('原函数就有的输出 L=',L) #[1, 1]"
   ]
  },
  {
   "cell_type": "code",
   "execution_count": 48,
   "metadata": {},
   "outputs": [
    {
     "name": "stdout",
     "output_type": "stream",
     "text": [
      "cmd2--> [0, 1, 1, 0]\n"
     ]
    }
   ],
   "source": [
    "L=[0]+L+[0] #[0, 1,,1, 0]\n",
    "print('cmd2-->',L)"
   ]
  },
  {
   "cell_type": "code",
   "execution_count": 49,
   "metadata": {},
   "outputs": [
    {
     "name": "stdout",
     "output_type": "stream",
     "text": [
      "2\n"
     ]
    },
    {
     "data": {
      "text/plain": [
       "[0, 1, 2]"
      ]
     },
     "execution_count": 49,
     "metadata": {},
     "output_type": "execute_result"
    }
   ],
   "source": [
    "#L=[ L[i]+L[i+1] for i in range(n+1) ]\n",
    "#我们继续手工计算该列表生成器\n",
    "print(n)\n",
    "[i for i in range(n+1) ]  #i的范围是[0, 1, 2]"
   ]
  },
  {
   "cell_type": "code",
   "execution_count": 50,
   "metadata": {},
   "outputs": [
    {
     "name": "stdout",
     "output_type": "stream",
     "text": [
      "cmd3--> [1, 2, 1]\n"
     ]
    }
   ],
   "source": [
    "#cmd2之后的L=[0, 1, 1, 0]\n",
    "#i=0, X[i]+X[i+1]=x0+x1=0+1=1\n",
    "#i=1, X[i]+X[i+1]=x1+x2=1+1=2\n",
    "#i=2, X[i]+X[i+1]=x2+x3=1+0=1\n",
    "#所以，列表生成器返回[1,2,1]\n",
    "\n",
    "L=[ L[i]+L[i+1] for i in range(n+1) ] #[1, 2, 1]\n",
    "print('cmd3-->',L)"
   ]
  },
  {
   "cell_type": "code",
   "execution_count": 51,
   "metadata": {},
   "outputs": [
    {
     "name": "stdout",
     "output_type": "stream",
     "text": [
      "cmd4--> 3\n"
     ]
    }
   ],
   "source": [
    "n+=1\n",
    "print('cmd4-->',n) #3"
   ]
  },
  {
   "cell_type": "code",
   "execution_count": 52,
   "metadata": {},
   "outputs": [
    {
     "name": "stdout",
     "output_type": "stream",
     "text": [
      "[1, 2, 1]\n",
      "cmd2--> [0, 1, 2, 1, 0]\n",
      "cmd3--> [1, 3, 3, 1]\n",
      "cmd4--> 4\n"
     ]
    }
   ],
   "source": [
    "#####################################while循环，n=3符合<=3\n",
    "print(L) #[1, 2, 1]\n",
    "\n",
    "L=[0]+L+[0] #[0, 1, 2, 1, 0]\n",
    "print('cmd2-->',L)\n",
    "\n",
    "L=[ L[i]+L[i+1] for i in range(n+1) ] #[1, 3, 3, 1]\n",
    "print('cmd3-->',L)\n",
    "\n",
    "n+=1\n",
    "print('cmd4-->',n) #4"
   ]
  },
  {
   "cell_type": "code",
   "execution_count": null,
   "metadata": {},
   "outputs": [],
   "source": [
    "#####################################while循环，n=4不符合<=3\n",
    "#跳出循环，结束程序"
   ]
  }
 ],
 "metadata": {
  "kernelspec": {
   "display_name": "Python 3",
   "language": "python",
   "name": "python3"
  },
  "language_info": {
   "codemirror_mode": {
    "name": "ipython",
    "version": 3
   },
   "file_extension": ".py",
   "mimetype": "text/x-python",
   "name": "python",
   "nbconvert_exporter": "python",
   "pygments_lexer": "ipython3",
   "version": "3.7.0"
  }
 },
 "nbformat": 4,
 "nbformat_minor": 2
}
