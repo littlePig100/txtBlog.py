{
 "cells": [
  {
   "cell_type": "code",
   "execution_count": 3,
   "metadata": {},
   "outputs": [
    {
     "name": "stdout",
     "output_type": "stream",
     "text": [
      "[5]\n",
      "[4, 5]\n",
      "[3, 4, 5]\n",
      "[2, 3, 4, 5]\n",
      "[1, 2, 3, 4, 5]\n",
      "[1, 2, 3, 4, 5]\n"
     ]
    }
   ],
   "source": [
    "# get_digits(12345)==>[1,2,3,4,5]\n",
    "\n",
    "rs=[]\n",
    "\n",
    "def get_digits(n):\n",
    "    if n>0:\n",
    "        rs.insert(0, n%10); #取余数，获得最后一位，放到首位\n",
    "        print(rs) #打印中间结果\n",
    "        get_digits(n//10); #整除，舍弃余数\n",
    "\n",
    "get_digits(12345)\n",
    "print(rs)"
   ]
  },
  {
   "cell_type": "code",
   "execution_count": 4,
   "metadata": {},
   "outputs": [
    {
     "name": "stdout",
     "output_type": "stream",
     "text": [
      "3\n",
      "1\n"
     ]
    }
   ],
   "source": [
    "print(13%10)\n",
    "print(13//10)"
   ]
  },
  {
   "cell_type": "code",
   "execution_count": 8,
   "metadata": {},
   "outputs": [
    {
     "data": {
      "text/plain": [
       "[1, 2, 3, 4, 5, 6]"
      ]
     },
     "execution_count": 8,
     "metadata": {},
     "output_type": "execute_result"
    }
   ],
   "source": [
    "#my implementation\n",
    "def geet_digits2(n):\n",
    "    rs=[]\n",
    "    while n>0:\n",
    "        rs.append(n%10)\n",
    "        n=int(n/10)\n",
    "    rs.sort() #排序\n",
    "    return rs;\n",
    "#\n",
    "geet_digits2(123456)"
   ]
  },
  {
   "cell_type": "code",
   "execution_count": 9,
   "metadata": {},
   "outputs": [
    {
     "data": {
      "text/plain": [
       "[1, 2, 3, 4, 5, 6, 7]"
      ]
     },
     "execution_count": 9,
     "metadata": {},
     "output_type": "execute_result"
    }
   ],
   "source": [
    "#my implementation\n",
    "def geet_digits3(n):\n",
    "    n=str(n)\n",
    "    rs=[]\n",
    "    for char in n:\n",
    "        rs.append(int(char) )\n",
    "    return rs\n",
    "#\n",
    "geet_digits3(1234567)"
   ]
  },
  {
   "cell_type": "code",
   "execution_count": 10,
   "metadata": {},
   "outputs": [
    {
     "data": {
      "text/plain": [
       "['x', 'c']"
      ]
     },
     "execution_count": 10,
     "metadata": {},
     "output_type": "execute_result"
    }
   ],
   "source": [
    "# your method should be:\n",
    "def g(s):\n",
    "    a=[]\n",
    "    for each in s:\n",
    "        a.append(each)\n",
    "    return a\n",
    "#\n",
    "g('xc')"
   ]
  },
  {
   "cell_type": "code",
   "execution_count": 14,
   "metadata": {},
   "outputs": [
    {
     "name": "stdout",
     "output_type": "stream",
     "text": [
      "('xc', 'this', 'is', 'a', 'book')\n"
     ]
    },
    {
     "data": {
      "text/plain": [
       "['xc', 'this', 'is', 'a', 'book']"
      ]
     },
     "execution_count": 14,
     "metadata": {},
     "output_type": "execute_result"
    }
   ],
   "source": [
    "# your method 解析\n",
    "def g(*s):\n",
    "    print('Your input is a tupple:',s) #这里可以看到，*表示接收所有参数，并当做tupple赋值给*后的变量\n",
    "    a=[]\n",
    "    for each in s: #从tupple中取出每个元素，并放到array中\n",
    "        a.append(each)\n",
    "    return a\n",
    "#\n",
    "g('xc','this','is','a','book')"
   ]
  },
  {
   "cell_type": "code",
   "execution_count": null,
   "metadata": {},
   "outputs": [],
   "source": []
  },
  {
   "cell_type": "code",
   "execution_count": null,
   "metadata": {},
   "outputs": [],
   "source": []
  },
  {
   "cell_type": "code",
   "execution_count": null,
   "metadata": {},
   "outputs": [],
   "source": []
  }
 ],
 "metadata": {
  "kernelspec": {
   "display_name": "Python 3",
   "language": "python",
   "name": "python3"
  },
  "language_info": {
   "codemirror_mode": {
    "name": "ipython",
    "version": 3
   },
   "file_extension": ".py",
   "mimetype": "text/x-python",
   "name": "python",
   "nbconvert_exporter": "python",
   "pygments_lexer": "ipython3",
   "version": "3.7.0"
  }
 },
 "nbformat": 4,
 "nbformat_minor": 2
}
